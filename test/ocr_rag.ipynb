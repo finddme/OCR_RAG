{
 "cells": [
  {
   "cell_type": "code",
   "execution_count": 1,
   "id": "e6deb308-a751-4229-911a-2b9f6169f3eb",
   "metadata": {},
   "outputs": [
    {
     "name": "stderr",
     "output_type": "stream",
     "text": [
      "/usr/local/lib/python3.9/dist-packages/weaviate/warnings.py:162: DeprecationWarning: Dep016: Python client v3 `weaviate.Client(...)` connections and methods are deprecated. Update\n",
      "            your code to use Python client v4 `weaviate.WeaviateClient` connections and methods.\n",
      "\n",
      "            For Python Client v4 usage, see: https://weaviate.io/developers/weaviate/client-libraries/python\n",
      "            For code migration, see: https://weaviate.io/developers/weaviate/client-libraries/python/v3_v4_migration\n",
      "            \n",
      "  warnings.warn(\n",
      "/usr/local/lib/python3.9/dist-packages/weaviate/warnings.py:162: DeprecationWarning: Dep016: Python client v3 `weaviate.Client(...)` connections and methods are deprecated. Update\n",
      "            your code to use Python client v4 `weaviate.WeaviateClient` connections and methods.\n",
      "\n",
      "            For Python Client v4 usage, see: https://weaviate.io/developers/weaviate/client-libraries/python\n",
      "            For code migration, see: https://weaviate.io/developers/weaviate/client-libraries/python/v3_v4_migration\n",
      "            \n",
      "  warnings.warn(\n"
     ]
    }
   ],
   "source": [
    "from ocr_processing import ocr_processing\n",
    "from langgraph.graph import END, StateGraph, START\n",
    "from typing_extensions import TypedDict\n",
    "from typing import List\n",
    "from langchain_core.prompts import ChatPromptTemplate\n",
    "import weaviate, os\n",
    "import openai\n",
    "# from langchain_core.output_parsers import StrOutputParser\n",
    "# from langchain_anthropic import ChatAnthropic\n",
    "start_page, end_page= 1, 10\n",
    "# claude_api_key=\"\"\n",
    "# llm = ChatAnthropic(model=\"claude-3-5-sonnet-20240620\",api_key=claude_api_key)\n",
    "weaviate_client = weaviate.Client(\"http://192.168.0.202:8080\") \n",
    "class GraphState(TypedDict):\n",
    "    question : str\n",
    "    file_name : str\n",
    "    class_name : str\n",
    "    retrieve_res: List[dict]\n",
    "    response: str\n",
    "    annotations: List[dict]\n",
    "\n",
    "def pdf_processing(state):\n",
    "    print(state)\n",
    "    global start_page\n",
    "    global end_page\n",
    "    print(\"--- PDF processing ---\")\n",
    "    question = state[\"question\"]\n",
    "    file_name = state[\"file_name\"]\n",
    "    class_name=ocr_processing(file_name,start_page, end_page)\n",
    "    return {\"question\": question, \"file_name\":file_name, \"class_name\":class_name}\n",
    "\n",
    "        \n",
    "def get_embedding(text, engine=\"text-embedding-3-large\") : \n",
    "    Openai_API_KEY = \"\"\n",
    "    os.environ[\"OPENAI_API_KEY\"] =  Openai_API_KEY\n",
    "    openai.api_key =os.getenv(\"OPENAI_API_KEY\")\n",
    "\n",
    "    # res = openai.Embedding.create(input=text,engine=engine)['data'][0]['embedding']\n",
    "    from openai import OpenAI\n",
    "    embedding_client = OpenAI()\n",
    "    res= embedding_client.embeddings.create(input = text, model=engine).data[0].embedding\n",
    "    return res\n",
    "    \n",
    "def retrieve(state):\n",
    "    print(state)\n",
    "    global weaviate_client\n",
    "    print(\"--- RETRIEVE from Vector Store DB ---\")\n",
    "    question = state[\"question\"]\n",
    "    file_name = state[\"file_name\"]\n",
    "    weaviate_class = state[\"class_name\"]\n",
    "    property_list = list(map(lambda x: x[\"name\"], weaviate_client.schema.get(weaviate_class)['properties']))\n",
    "    query_vector = get_embedding(question)\n",
    "    documents = weaviate_client.query.get(weaviate_class, property_list).with_hybrid(question, vector=query_vector).with_limit(3).do()\n",
    "    retrieve_res=list(map(lambda x: x[\"content\"], documents[\"data\"][\"Get\"][weaviate_class.title()]))\n",
    "    annotations=list(map(lambda x: {\"page_num\":x[\"page_num\"],\"bbox\":x[\"bbox\"].split(\"//\"), \"box_color\":x[\"box_color\"].split(\"//\")}, documents[\"data\"][\"Get\"][weaviate_class.title()]))\n",
    "    return {\"question\": question, \"file_name\":file_name, \"class_name\":weaviate_class, \"retrieve_res\": retrieve_res, \"annotations\":annotations}\n",
    "\n",
    "Openai_API_KEY = \"\"\n",
    "from openai import OpenAI\n",
    "llm_client = OpenAI(api_key=Openai_API_KEY)\n",
    "\n",
    "def get_summary_response(text,documents):\n",
    "    gpt_prompt=f\"\"\"You are a highly knowledgeable and friendly chatbot designed to answer questions based on a provided document about prompt engineering. \n",
    "    The document includes information on various aspects of prompt engineering, such as techniques, strategies, use cases, and best practices.\n",
    "    When a user asks a question, your goal is to provide accurate, concise, and contextually relevant answers based on the document. \n",
    "    If the document contains multiple sections that could answer the question, summarize the relevant sections.\n",
    "    Question: {text}\n",
    "    \n",
    "    Here is the document content for reference:\n",
    "    {documents}\n",
    "\n",
    "    Guidelines:\n",
    "    - Refer to the above document and write the answer to the user's question in Korean. All responses must be given in Korean.\n",
    "    - Always refer to the document content for your answers.\n",
    "    - Provide clear and concise explanations.\n",
    "    - If a question is not directly answerable from the document, acknowledge the limitation and suggest consulting the full document for detailed information.\n",
    "\n",
    "    \"\"\"\n",
    "    # response = openai.ChatCompletion.create(\n",
    "    response = llm_client.chat.completions.create(\n",
    "        model=\"gpt-4o\",\n",
    "        # api_key=Openai_API_KEY,\n",
    "        messages=[{\"role\": \"system\", \"content\": gpt_prompt}],\n",
    "        max_tokens=1024)\n",
    "    return response.choices[0].message.content\n",
    "\n",
    "def generate(state):\n",
    "    print(\"--- GENERATE Answer ---\")\n",
    "    question = state[\"question\"]\n",
    "    file_name = state[\"file_name\"]\n",
    "    weaviate_class = state[\"class_name\"]\n",
    "    retrieve_res=state[\"retrieve_res\"]\n",
    "    annotations=state[\"annotations\"]\n",
    "    generation= get_summary_response(question,retrieve_res)\n",
    "    return {\"question\": question, \"file_name\":file_name, \"class_name\":weaviate_class, \"retrieve_res\": retrieve_res, \"annotations\":annotations, \"response\":generation}\n"
   ]
  },
  {
   "cell_type": "code",
   "execution_count": null,
   "id": "283aeaa7-9c78-4e6e-96e2-87b8349525cc",
   "metadata": {},
   "outputs": [],
   "source": []
  },
  {
   "cell_type": "code",
   "execution_count": 2,
   "id": "a6ae66b8-ea0b-4317-bc90-075d422e4172",
   "metadata": {},
   "outputs": [],
   "source": [
    "workflow = StateGraph(GraphState)\n",
    "\n",
    "# Define the nodes\n",
    "workflow.add_node(\"pdf_processing\", pdf_processing)\n",
    "workflow.add_node(\"retrieve\", retrieve) # retrieve\n",
    "workflow.add_node(\"generate\", generate)\n",
    "\n",
    "workflow.add_edge(START, \"pdf_processing\")\n",
    "workflow.add_edge(\"pdf_processing\", \"retrieve\")\n",
    "workflow.add_edge(\"retrieve\", \"generate\")\n",
    "workflow.add_edge(\"generate\", END)\n",
    "\n",
    "# Build graph\n",
    "# workflow.set_conditional_entry_point(\n",
    "#     pdf_processing, \n",
    "#     {\n",
    "#         \"pdf processing done\": \"retrieve\", #returns of the function\n",
    "#         \"end\": END #returns of the function\n",
    "#     },\n",
    "# )\n",
    "\n",
    "app = workflow.compile()"
   ]
  },
  {
   "cell_type": "code",
   "execution_count": 3,
   "id": "f65aaedd-f6dc-404e-bee9-b58ac4f9d06e",
   "metadata": {
    "scrolled": true
   },
   "outputs": [
    {
     "name": "stdout",
     "output_type": "stream",
     "text": [
      "{'question': '5월 금융시장 동향에 대해 알려줘', 'file_name': '세로형PDF_(20240603) 금융시장 브리프', 'class_name': None, 'retrieve_res': None, 'response': None, 'annotations': None}\n",
      "--- PDF processing ---\n",
      "--- check DB ---\n",
      "--- PDF exist, calss name: ['ocr']---\n",
      "{'question': '5월 금융시장 동향에 대해 알려줘', 'file_name': '세로형PDF_(20240603) 금융시장 브리프', 'class_name': 'ocr', 'retrieve_res': None, 'response': None, 'annotations': None}\n",
      "--- RETRIEVE from Vector Store DB ---\n",
      "--- GENERATE Answer ---\n"
     ]
    },
    {
     "data": {
      "text/plain": [
       "{'question': '5월 금융시장 동향에 대해 알려줘',\n",
       " 'file_name': '세로형PDF_(20240603) 금융시장 브리프',\n",
       " 'class_name': 'ocr',\n",
       " 'retrieve_res': ['가운데,국내증시는수출호조에따른제조업실적개선에힘입어추가상승할전망\\n[금리]\\n 양호한 1분기 경기여건과 더딘 물가 둔화로 금리인하 필요성이 축소됨에 따라 한·미\\n기준금리 인하시점은 올해 3~4분기로 지연되고 인하폭도 25bp에 그칠 전망\\n- 4월 소비자물가·고용지표 둔화에도 불구하고, 전반적으로 양호한 미국 경기여건과 \\n연준 인사들의 매파적 스탠스 유지 등을 감안할 때 연준의 금리인하는 올해 9월 \\n한차례에 그칠 것으로 예상(6.11~12일 FOMC 회의 기준금리 동결 전망)\\n* CMEFedWatch는미연준의금리인하가올해9월(5.28일기준57.4%)25bp1차례에\\n그치고,다음인하시점은25.1월(77.4%)로미뤄질확률을높게반영\\n- 부동산 PF 부실 등에 따른 내수부진 우려에도 불구하고, 미 연준의 조기 금리인하 \\n기대 약화, 예상을 상회한 1분기 GDP, 원화 약세 부담 등을 고려하여 한국은행도 기준금리 \\n인하시점을 올해 4분기까지 늦출 것으로 전망\\n* 금통위직후발간된7개IB보고서를종합하면향후금리인하시점은4분기(4개IB)가\\n3분기(3개)보다가능성이높은것으로평가\\n 국고채 금리는 미국 4월 PCE 물가와 5월 고용지표, 6.11~12일 FOMC에 대한 경계로 \\n하방경직성을 보이겠으나, 금리 상승 시 저가 대기 매수세도 여전하여 기준금리 \\n레벨(10년물 3.55%, 3년물 3.45%)을 중심으로 제한된 범위의 등락이 예상\\n* 국고채3년물금리전망(기말,%):24.4월3.53→5월3.45→6월F3.45\\n* 미국4월PCE물가상승률(yoy)은2.7%로시장예상치에부합(근원물가는+2.8%)\\n선\\n물시장\\n에반영된\\n연\\n준기준금\\n리전망\\n한국소비자물가상승률,기준금리',\n",
       "  '가운데,국내증시는수출호조에따른제조업실적개선에힘입어추가상승할전망\\n[금리]\\n 양호한 1분기 경기여건과 더딘 물가 둔화로 금리인하 필요성이 축소됨에 따라 한·미\\n기준금리 인하시점은 올해 3~4분기로 지연되고 인하폭도 25bp에 그칠 전망\\n- 4월 소비자물가·고용지표 둔화에도 불구하고, 전반적으로 양호한 미국 경기여건과 \\n연준 인사들의 매파적 스탠스 유지 등을 감안할 때 연준의 금리인하는 올해 9월 \\n한차례에 그칠 것으로 예상(6.11~12일 FOMC 회의 기준금리 동결 전망)\\n* CMEFedWatch는미연준의금리인하가올해9월(5.28일기준57.4%)25bp1차례에\\n그치고,다음인하시점은25.1월(77.4%)로미뤄질확률을높게반영\\n- 부동산 PF 부실 등에 따른 내수부진 우려에도 불구하고, 미 연준의 조기 금리인하 \\n기대 약화, 예상을 상회한 1분기 GDP, 원화 약세 부담 등을 고려하여 한국은행도 기준금리 \\n인하시점을 올해 4분기까지 늦출 것으로 전망\\n* 금통위직후발간된7개IB보고서를종합하면향후금리인하시점은4분기(4개IB)가\\n3분기(3개)보다가능성이높은것으로평가\\n 국고채 금리는 미국 4월 PCE 물가와 5월 고용지표, 6.11~12일 FOMC에 대한 경계로 \\n하방경직성을 보이겠으나, 금리 상승 시 저가 대기 매수세도 여전하여 기준금리 \\n레벨(10년물 3.55%, 3년물 3.45%)을 중심으로 제한된 범위의 등락이 예상\\n* 국고채3년물금리전망(기말,%):24.4월3.53→5월3.45→6월F3.45\\n* 미국4월PCE물가상승률(yoy)은2.7%로시장예상치에부합(근원물가는+2.8%)\\n선\\n물시장\\n에반영된\\n연\\n준기준금\\n리전망\\n한국소비자물가상승률,기준금리',\n",
       "  ' 국고채 3년물 금리는 완화적인 5월 FOMC와 컨센서스를 하회한 4월 미국\\n고용지표·소비자물가 영향으로 3.38%까지 낮아졌으나, 매파적 내용이 강했던\\nFOMC 의사록 등으로 3.4%대로 반등(5.1일 3.53% → 5.31일 3.45%)\\n 원달러 환율은 완화적인 5월 FOMC 결과와 4월 미국 고용지표 둔화, 시장 예상치를\\n하회한 4월 미국 CPI에 힘입어 1,345원까지 하락했으나, 연준 인사들의 잇따른\\n매파적인 발언 등으로 1,370원까지 반등(5.1일 1,382원 → 5.31일 1,385원)\\n KOSPI는 수출 호조 기대와 국내 경제성장률 전망치 상향, AI·반도체 테마주의\\n강세에 힘입어 2,750선까지 상승했으나, 연준의 매파적 스탠스와 견조한 미국\\n경제지표로 긴축 우려가 커지며 상승폭이 제한(5.1일 2,692 → 5.31일 2,637)'],\n",
       " 'response': '2023년 5월 금융시장 동향에 대해 설명드리겠습니다.\\n\\n1. **금리**:\\n    - **한국과 미국**: 양호한 1분기 경기 여건과 더딘 물가 둔화로 인해 금리 인하 필요성이 축소되었고, 한·미 기준금리 인하 시점은 올해 3~4분기로 지연될 전망입니다. 인하 폭은 25bp에 그칠 것으로 예측됩니다.\\n    - **미국**: 4월 소비자 물가와 고용 지표 둔화에도 불구하고, 전반적인 미국 경기 여건이 양호하고 연준 인사들이 매파적 스탠스를 유지함에 따라 금리 인하는 올해 9월 한 차례로 그칠 것으로 보입니다. CME FedWatch는 2023년 9월(57.4%) 한 차례만 금리 인하가 있을 것이라고 예측합니다.\\n    - **한국**: 부동산 PF 부실 등에 따른 내수 부진 우려에도 불구하고, 연준의 조기 금리 인하 기대 약화, 예상 외의 1분기 GDP, 원화 약세 부담 등을 고려하여 한국은행도 기준금리 인하 시점을 올해 4분기까지 늦출 전망입니다.\\n\\n2. **국고채 금리**:\\n    - 미국 4월 PCE 물가와 5월 고용 지표, 6월 FOMC에 대한 경계로 하방 경직성을 보이지만, 금리 상승 시 저가 대기 매수세가 있어 제한된 범위의 등락이 예상됩니다. 3년물 국고채 금리는 3.53%에서 3.45%로 예상됩니다.\\n\\n3. **원달러 환율**:\\n    - 5월 FOMC 결과와 4월 미국 고용 지표 둔화, 예상보다 낮은 4월 미국 CPI에 힘입어 원달러 환율은 1,345원까지 하락했으나, 연준 인사들의 매파적 발언 등으로 1,370원까지 반등했습니다. (5월 1일: 1,382원 → 5월 31일: 1,385원)\\n\\n4. **주식 시장**:\\n    - KOSPI는 수출 호조 기대와 국내 경제 성장률 전망치 상향, AI 및 반도체 테마주의 강세에 힘입어 2,750선까지 상승했으나, 연준의 매파적 스탠스와 견조한 미국 경제 지표로 인해 긴축 우려가 커지며 상승 폭이 제한되었습니다. (5월 1일: 2,692 → 5월 31일: 2,637)\\n\\n이와 같이, 5월의 금융시장은 다양한 요인들로 인해 변동성이 있었습니다. 추가적인 자세한 정보는 관련 자료를 참고하시기 바랍니다.',\n",
       " 'annotations': [{'page_num': 8,\n",
       "   'bbox': ['91.78765880217784',\n",
       "    '165.89687633718444',\n",
       "    '524.449485783424',\n",
       "    '556.7081728712025'],\n",
       "   'box_color': ['0', '255', '0']},\n",
       "  {'page_num': 8,\n",
       "   'bbox': ['91.78765880217784',\n",
       "    '165.89687633718444',\n",
       "    '524.449485783424',\n",
       "    '556.7081728712025'],\n",
       "   'box_color': ['0', '255', '0']},\n",
       "  {'page_num': 3,\n",
       "   'bbox': ['92.50756200846945',\n",
       "    '177.4124946512623',\n",
       "    '522.2897761645493',\n",
       "    '365.6208814719726'],\n",
       "   'box_color': ['0', '255', '0']}]}"
      ]
     },
     "execution_count": 3,
     "metadata": {},
     "output_type": "execute_result"
    }
   ],
   "source": [
    "inputs = {\"file_name\": '세로형PDF_(20240603) 금융시장 브리프',\"question\":\"5월 금융시장 동향에 대해 알려줘\"}\n",
    "# for output in app.stream(inputs):\n",
    "#     for key, value in output.items():\n",
    "#         pprint(f\"Finished running: {key}:\")\n",
    "# print(value[\"generation\"])\n",
    "res=app.invoke(inputs)\n",
    "res"
   ]
  },
  {
   "cell_type": "code",
   "execution_count": 5,
   "id": "008f1557-6a20-486a-ab27-a06f2e61b8c6",
   "metadata": {},
   "outputs": [],
   "source": [
    "retreival_res = {\n",
    "    \"response\": res[\"response\"],\n",
    "    \"annotations\": res[\"annotations\"]\n",
    "}"
   ]
  },
  {
   "cell_type": "code",
   "execution_count": 19,
   "id": "10a34a41-1a54-4b9d-be42-e0185e362945",
   "metadata": {},
   "outputs": [],
   "source": [
    "bboxes={}\n",
    "for ra in retreival_res[\"annotations\"]:\n",
    "    bbox=list(map(lambda x : float(x),ra[\"bbox\"]))\n",
    "    box_color=tuple(map(lambda x : int(x),ra[\"box_color\"]))\n",
    "    if ra[\"page_num\"] not in list(bboxes.keys()):\n",
    "        bboxes[ra[\"page_num\"]]=[{\"bbox\":bbox, \"box_color\":box_color}]\n",
    "    else:bboxes[ra[\"page_num\"]].append({\"bbox\":bbox, \"box_color\":box_color})"
   ]
  },
  {
   "cell_type": "code",
   "execution_count": 20,
   "id": "8df9da27-b3ad-46e5-8a12-0f4d290a435b",
   "metadata": {},
   "outputs": [
    {
     "data": {
      "text/plain": [
       "{8: [{'bbox': [91.78765880217784,\n",
       "    165.89687633718444,\n",
       "    524.449485783424,\n",
       "    556.7081728712025],\n",
       "   'box_color': (0, 255, 0)},\n",
       "  {'bbox': [91.78765880217784,\n",
       "    165.89687633718444,\n",
       "    524.449485783424,\n",
       "    556.7081728712025],\n",
       "   'box_color': (0, 255, 0)}],\n",
       " 3: [{'bbox': [92.50756200846945,\n",
       "    177.4124946512623,\n",
       "    522.2897761645493,\n",
       "    365.6208814719726],\n",
       "   'box_color': (0, 255, 0)}]}"
      ]
     },
     "execution_count": 20,
     "metadata": {},
     "output_type": "execute_result"
    }
   ],
   "source": [
    "bboxes"
   ]
  },
  {
   "cell_type": "code",
   "execution_count": null,
   "id": "6c2d89d2-bac4-4f16-a6a9-eb413d38427f",
   "metadata": {},
   "outputs": [],
   "source": []
  },
  {
   "cell_type": "code",
   "execution_count": null,
   "id": "46b2ef76-57b1-400c-9798-4715d4a78484",
   "metadata": {},
   "outputs": [],
   "source": []
  },
  {
   "cell_type": "code",
   "execution_count": null,
   "id": "7701d145-cb15-4db7-9372-ac5898020569",
   "metadata": {},
   "outputs": [],
   "source": []
  },
  {
   "cell_type": "code",
   "execution_count": null,
   "id": "77f6db76-6c45-4ae5-bc57-918a87f0e972",
   "metadata": {},
   "outputs": [],
   "source": []
  },
  {
   "cell_type": "code",
   "execution_count": 56,
   "id": "9cb6a19c-a8db-429b-8cf2-09de673e2500",
   "metadata": {},
   "outputs": [
    {
     "data": {
      "image/jpeg": "[encoded data removed]",
      "text/plain": [
       "<IPython.core.display.Image object>"
      ]
     },
     "metadata": {},
     "output_type": "display_data"
    }
   ],
   "source": [
    "from IPython.display import Image, display\n",
    "from langchain_core.runnables.graph import CurveStyle, MermaidDrawMethod\n",
    "# print(app.get_graph().draw_mermaid())\n",
    "display(\n",
    "    Image(\n",
    "        app.get_graph().draw_mermaid_png(\n",
    "            draw_method=MermaidDrawMethod.API,\n",
    "        )\n",
    "    )\n",
    ")"
   ]
  },
  {
   "cell_type": "code",
   "execution_count": null,
   "id": "3f19c1e8-4988-4761-92e5-7892193e862c",
   "metadata": {},
   "outputs": [],
   "source": []
  },
  {
   "cell_type": "code",
   "execution_count": null,
   "id": "e269d411-eb51-40e1-8b65-68a100e454c0",
   "metadata": {},
   "outputs": [],
   "source": []
  }
 ],
 "metadata": {
  "kernelspec": {
   "display_name": "Python 3 (ipykernel)",
   "language": "python",
   "name": "python3"
  },
  "language_info": {
   "codemirror_mode": {
    "name": "ipython",
    "version": 3
   },
   "file_extension": ".py",
   "mimetype": "text/x-python",
   "name": "python",
   "nbconvert_exporter": "python",
   "pygments_lexer": "ipython3",
   "version": "3.9.12"
  }
 },
 "nbformat": 4,
 "nbformat_minor": 5
}
