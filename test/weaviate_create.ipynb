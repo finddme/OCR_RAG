{
 "cells": [
  {
   "cell_type": "code",
   "execution_count": 1,
   "id": "0d2c475f-439c-491f-9e5d-552746862f14",
   "metadata": {
    "scrolled": true
   },
   "outputs": [
    {
     "name": "stderr",
     "output_type": "stream",
     "text": [
      "/usr/local/lib/python3.9/dist-packages/weaviate/warnings.py:162: DeprecationWarning: Dep016: Python client v3 `weaviate.Client(...)` connections and methods are deprecated. Update\n",
      "            your code to use Python client v4 `weaviate.WeaviateClient` connections and methods.\n",
      "\n",
      "            For Python Client v4 usage, see: https://weaviate.io/developers/weaviate/client-libraries/python\n",
      "            For code migration, see: https://weaviate.io/developers/weaviate/client-libraries/python/v3_v4_migration\n",
      "            \n",
      "  warnings.warn(\n"
     ]
    }
   ],
   "source": [
    "import weaviate\n",
    "import json\n",
    "\n",
    "client = weaviate.Client(\"http://192.168.0.202:8080\") "
   ]
  },
  {
   "cell_type": "code",
   "execution_count": 4,
   "id": "40197291-0be9-4712-b0f2-dc5d59890051",
   "metadata": {},
   "outputs": [],
   "source": [
    "class_obj = {\n",
    "    \"class\": \"ocr\",\n",
    "    \"vectorizer\": \"none\",\n",
    "}\n",
    "\n",
    "# Add the class to the schema\n",
    "client.schema.create_class(class_obj)"
   ]
  },
  {
   "cell_type": "code",
   "execution_count": null,
   "id": "9d30e5d5-7454-425c-843a-715a66c46372",
   "metadata": {},
   "outputs": [],
   "source": []
  },
  {
   "cell_type": "code",
   "execution_count": 3,
   "id": "ccb84f17-a017-4010-9c75-95c7f6fdee7a",
   "metadata": {},
   "outputs": [],
   "source": [
    "client.schema.delete_class(\"ocr\")"
   ]
  },
  {
   "cell_type": "code",
   "execution_count": null,
   "id": "ae514bcd-9ae6-406c-9f3c-47d44f04c7f0",
   "metadata": {},
   "outputs": [],
   "source": []
  },
  {
   "cell_type": "code",
   "execution_count": null,
   "id": "95af20d6-ab29-44bf-a631-bef9264c39c1",
   "metadata": {},
   "outputs": [],
   "source": []
  },
  {
   "cell_type": "code",
   "execution_count": null,
   "id": "0cefb807-effb-447c-85e9-1cb5c8bc500f",
   "metadata": {},
   "outputs": [],
   "source": []
  },
  {
   "cell_type": "code",
   "execution_count": null,
   "id": "f77dbe31-ae94-4a6c-8c60-b00aa8996fdd",
   "metadata": {},
   "outputs": [],
   "source": []
  },
  {
   "cell_type": "code",
   "execution_count": 3,
   "id": "1b511062-1822-4dde-babd-d690829925e8",
   "metadata": {
    "scrolled": true
   },
   "outputs": [
    {
     "data": {
      "text/plain": [
       "['Ocr']"
      ]
     },
     "execution_count": 3,
     "metadata": {},
     "output_type": "execute_result"
    }
   ],
   "source": [
    "list(map(lambda x : x[\"class\"], client.schema.get()[\"classes\"]))"
   ]
  },
  {
   "cell_type": "code",
   "execution_count": 2,
   "id": "5f2478d7-c5cc-4fb5-bc5b-a9a2f72dad18",
   "metadata": {},
   "outputs": [
    {
     "name": "stdout",
     "output_type": "stream",
     "text": [
      "['ocr'] ['ocr']\n"
     ]
    }
   ],
   "source": [
    "def load_weaviate_class_list():\n",
    "    saved_class_list=[]\n",
    "    with open(\"./DB_class_name.txt\", 'r') as ff:\n",
    "        class_data=ff.readlines()\n",
    "        for cd in class_data:\n",
    "            saved_class_list.append({\"class\":cd.split(\"/////\")[0],\"file\":cd.split(\"/////\")[1].replace(\"\\n\",\"\")})\n",
    "    class_name_list=list(dict.fromkeys([cdl['class'] for cdl in saved_class_list]))\n",
    "    file_name_list=list(dict.fromkeys([cdl['file'] for cdl in saved_class_list]))\n",
    "    return saved_class_list,class_name_list, file_name_list\n",
    "\n",
    "\n",
    "_, class_name_list, _=load_weaviate_class_list()\n",
    "db_classes=list(map(lambda x : x[\"class\"].lower(), client.schema.get()[\"classes\"]))\n",
    "print(class_name_list,db_classes)\n",
    "for dc in db_classes:\n",
    "    if dc not in class_name_list:\n",
    "        print(f\"--- delte db class {dc} ---\")\n",
    "        client.schema.delete_class(dc)"
   ]
  },
  {
   "cell_type": "code",
   "execution_count": 5,
   "id": "30429d53-ef4d-43bd-a13e-0f4c57058392",
   "metadata": {},
   "outputs": [
    {
     "name": "stdout",
     "output_type": "stream",
     "text": [
      "0\n",
      "1\n"
     ]
    }
   ],
   "source": [
    "for i in range(2):\n",
    "    print(i)"
   ]
  },
  {
   "cell_type": "code",
   "execution_count": null,
   "id": "3c8693fc-4845-474b-bdb7-966ba457e5ba",
   "metadata": {},
   "outputs": [],
   "source": []
  }
 ],
 "metadata": {
  "kernelspec": {
   "display_name": "Python 3 (ipykernel)",
   "language": "python",
   "name": "python3"
  },
  "language_info": {
   "codemirror_mode": {
    "name": "ipython",
    "version": 3
   },
   "file_extension": ".py",
   "mimetype": "text/x-python",
   "name": "python",
   "nbconvert_exporter": "python",
   "pygments_lexer": "ipython3",
   "version": "3.9.12"
  }
 },
 "nbformat": 4,
 "nbformat_minor": 5
}
